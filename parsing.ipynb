{
 "cells": [
  {
   "cell_type": "code",
   "execution_count": 54,
   "metadata": {},
   "outputs": [
    {
     "name": "stdout",
     "output_type": "stream",
     "text": [
      "Classification Result: ['free', '99.98%']\n"
     ]
    }
   ],
   "source": [
    "from selenium import webdriver\n",
    "from selenium.webdriver.common.keys import Keys\n",
    "import time\n",
    "\n",
    "# 크롬 드라이버 경로\n",
    "chrome_driver_path = \"C:\\\\Users\\\\tubs5\\\\Downloads\\\\chromedriver_win32\\\\chromedriver.exe\"\n",
    "\n",
    "# 크롬 옵션 설정\n",
    "chrome_options = webdriver.ChromeOptions()\n",
    "chrome_options.add_argument('--headless')  # 브라우저를 실제로 열지 않고 실행 (화면이 필요 없을 때 유용)\n",
    "\n",
    "# 웹 드라이버 초기화\n",
    "driver = webdriver.Chrome(options=chrome_options)\n",
    "\n",
    "# 이미지 분류기 주소\n",
    "url = 'https://ideal-man58.github.io/ai_testing/public/index.html'\n",
    "\n",
    "# 웹 페이지 열기\n",
    "driver.get(url)\n",
    "\n",
    "# 이미지 업로드\n",
    "image_input = driver.find_element(\"css selector\", \"#imageUpload\")\n",
    "image_path = \"C:\\\\Users\\\\tubs5\\\\Documents\\\\GitHub\\\\OSS_Jetbot_8\\\\final_project\\\\015de376-7a1e-11ee-a1cc-28dfeb425329.jpg\"\n",
    "image_input.send_keys(image_path)\n",
    "\n",
    "# 잠시 대기하여 JavaScript가 실행되도록 기다림\n",
    "time.sleep(1)\n",
    "\n",
    "# 결과 파싱 (결과 요소의 ID를 실제 웹 페이지에서 확인하여 입력)\n",
    "result_element = driver.find_element(\"css selector\", \"#resultDisplay\")\n",
    "result = result_element.text\n",
    "\n",
    "# 웹 드라이버 종료\n",
    "driver.quit()\n",
    "\n",
    "result = result.split()\n",
    "result = [result[1], result[3]]\n",
    "print('Classification Result:', result)\n"
   ]
  },
  {
   "cell_type": "code",
   "execution_count": null,
   "metadata": {},
   "outputs": [],
   "source": []
  }
 ],
 "metadata": {
  "kernelspec": {
   "display_name": "base",
   "language": "python",
   "name": "python3"
  },
  "language_info": {
   "codemirror_mode": {
    "name": "ipython",
    "version": 3
   },
   "file_extension": ".py",
   "mimetype": "text/x-python",
   "name": "python",
   "nbconvert_exporter": "python",
   "pygments_lexer": "ipython3",
   "version": "3.9.15"
  }
 },
 "nbformat": 4,
 "nbformat_minor": 2
}
