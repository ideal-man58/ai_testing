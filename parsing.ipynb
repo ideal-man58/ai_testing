{
 "cells": [
  {
   "cell_type": "code",
   "execution_count": 34,
   "metadata": {},
   "outputs": [
    {
     "ename": "TypeError",
     "evalue": "__init__() got an unexpected keyword argument 'executable_path'",
     "output_type": "error",
     "traceback": [
      "\u001b[1;31m---------------------------------------------------------------------------\u001b[0m",
      "\u001b[1;31mTypeError\u001b[0m                                 Traceback (most recent call last)",
      "\u001b[1;32m~\\AppData\\Local\\Temp\\ipykernel_22136\\4071052138.py\u001b[0m in \u001b[0;36m<module>\u001b[1;34m\u001b[0m\n\u001b[0;32m     11\u001b[0m \u001b[1;33m\u001b[0m\u001b[0m\n\u001b[0;32m     12\u001b[0m \u001b[1;31m# 웹 드라이버 초기화\u001b[0m\u001b[1;33m\u001b[0m\u001b[1;33m\u001b[0m\u001b[0m\n\u001b[1;32m---> 13\u001b[1;33m \u001b[0mdriver\u001b[0m \u001b[1;33m=\u001b[0m \u001b[0mwebdriver\u001b[0m\u001b[1;33m.\u001b[0m\u001b[0mChrome\u001b[0m\u001b[1;33m(\u001b[0m\u001b[0moptions\u001b[0m\u001b[1;33m=\u001b[0m\u001b[0mchrome_options\u001b[0m\u001b[1;33m,\u001b[0m \u001b[0mexecutable_path\u001b[0m\u001b[1;33m=\u001b[0m\u001b[0mchrome_driver_path\u001b[0m\u001b[1;33m)\u001b[0m\u001b[1;33m\u001b[0m\u001b[1;33m\u001b[0m\u001b[0m\n\u001b[0m\u001b[0;32m     14\u001b[0m \u001b[1;33m\u001b[0m\u001b[0m\n\u001b[0;32m     15\u001b[0m \u001b[1;31m# 이미지 분류기 주소\u001b[0m\u001b[1;33m\u001b[0m\u001b[1;33m\u001b[0m\u001b[0m\n",
      "\u001b[1;31mTypeError\u001b[0m: __init__() got an unexpected keyword argument 'executable_path'"
     ]
    }
   ],
   "source": [
    "<!DOCTYPE html>\n",
    "<html lang=\"en\">\n",
    "<head>\n",
    "    <meta charset=\"UTF-8\">\n",
    "    <meta name=\"viewport\" content=\"width=device-width, initial-scale=1.0\">\n",
    "    <title>Teachable Machine Image Classifier</title>\n",
    "</head>\n",
    "<body>\n",
    "    <div>\n",
    "        Teachable Machine Image Classifier\n",
    "        <input type=\"file\" id=\"imageUpload\" accept=\"image/*\" />\n",
    "    </div>\n",
    "    <script src=\"https://cdn.jsdelivr.net/npm/p5@latest/lib/p5.min.js\"></script>\n",
    "    <script src=\"https://cdn.jsdelivr.net/npm/p5@latest/lib/addons/p5.dom.min.js\"></script>\n",
    "    <script src=\"https://cdn.jsdelivr.net/npm/ml5@latest/dist/ml5.min.js\"></script>\n",
    "\n",
    "    <script type=\"text/javascript\">\n",
    "        let classifier;\n",
    "        let imageModelURL = './my_model/';\n",
    "        let img;\n",
    "        let label = \"\";\n",
    "\n",
    "        function preload() {\n",
    "            classifier = ml5.imageClassifier(imageModelURL + 'model.json');\n",
    "        }\n",
    "\n",
    "        function setup() {\n",
    "            createCanvas(224, 224); // 이미지 크기 조정\n",
    "            let imageUpload = select('#imageUpload');\n",
    "            imageUpload.changed(handleImage);\n",
    "        }\n",
    "\n",
    "        function draw() {\n",
    "            background(255); // 흰 배경으로 설정\n",
    "            if (img) {\n",
    "                image(img, 0, 0, width, height);\n",
    "            }\n",
    "            fill(0);\n",
    "            textSize(16);\n",
    "            textAlign(CENTER);\n",
    "            text(label, width / 2, height - 4);\n",
    "        }\n",
    "\n",
    "        function handleImage() {\n",
    "            img = loadImage(URL.createObjectURL(select('#imageUpload').elt.files[0]), classifyImage);\n",
    "        }\n",
    "\n",
    "        function classifyImage() {\n",
    "            if (img) {\n",
    "                // 이미지 크기를 모델의 기대 크기로 조정\n",
    "                img.resize(224, 224);\n",
    "                classifier.classify(img, gotResult);\n",
    "            }\n",
    "        }\n",
    "\n",
    "        let resultPrinted = false; // 결과를 한 번만 출력하기 위한 플래그\n",
    "\n",
    "        function gotResult(error, results) {\n",
    "            if (error) {\n",
    "                console.error(error);\n",
    "                return;\n",
    "            }\n",
    "\n",
    "            if (!resultPrinted) {\n",
    "                console.log(results);\n",
    "                label = results[0].label;\n",
    "                classifyImage();\n",
    "                resultPrinted = true; // 결과를 출력한 후 플래그 설정\n",
    "            }\n",
    "        }\n",
    "    </script>\n",
    "\n",
    "</body>\n",
    "</html>"
   ]
  },
  {
   "cell_type": "code",
   "execution_count": null,
   "metadata": {},
   "outputs": [],
   "source": []
  }
 ],
 "metadata": {
  "kernelspec": {
   "display_name": "base",
   "language": "python",
   "name": "python3"
  },
  "language_info": {
   "codemirror_mode": {
    "name": "ipython",
    "version": 3
   },
   "file_extension": ".py",
   "mimetype": "text/x-python",
   "name": "python",
   "nbconvert_exporter": "python",
   "pygments_lexer": "ipython3",
   "version": "3.9.15"
  }
 },
 "nbformat": 4,
 "nbformat_minor": 2
}
