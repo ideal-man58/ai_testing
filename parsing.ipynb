{
 "cells": [
  {
   "cell_type": "code",
   "execution_count": 7,
   "metadata": {},
   "outputs": [
    {
     "name": "stdout",
     "output_type": "stream",
     "text": [
      "Image upload failed. Status Code: 405\n"
     ]
    }
   ],
   "source": [
    "import requests\n",
    "from PIL import Image\n",
    "from io import BytesIO\n",
    "\n",
    "# 이미지 파일 경로\n",
    "image_path = r'C:\\Users\\tubs5\\Documents\\GitHub\\OSS_Jetbot_8\\final_project\\015de376-7a1e-11ee-a1cc-28dfeb425329.jpg'\n",
    "\n",
    "# 이미지 열기\n",
    "image = Image.open(image_path)\n",
    "\n",
    "# 이미지를 API에 전송\n",
    "url = 'https://ideal-man58.github.io/ai_testing/public/index.html'\n",
    "files = {'image': ('image.jpg', image.tobytes(), 'image/jpeg')}\n",
    "response = requests.post(url, files=files)\n",
    "\n",
    "# 응답 확인\n",
    "if response.status_code == 200:\n",
    "    print('Image upload successful.')\n",
    "else:\n",
    "    print('Image upload failed. Status Code:', response.status_code)\n"
   ]
  },
  {
   "cell_type": "code",
   "execution_count": null,
   "metadata": {},
   "outputs": [],
   "source": []
  },
  {
   "cell_type": "code",
   "execution_count": null,
   "metadata": {},
   "outputs": [],
   "source": []
  },
  {
   "cell_type": "code",
   "execution_count": null,
   "metadata": {},
   "outputs": [],
   "source": []
  }
 ],
 "metadata": {
  "kernelspec": {
   "display_name": "base",
   "language": "python",
   "name": "python3"
  },
  "language_info": {
   "codemirror_mode": {
    "name": "ipython",
    "version": 3
   },
   "file_extension": ".py",
   "mimetype": "text/x-python",
   "name": "python",
   "nbconvert_exporter": "python",
   "pygments_lexer": "ipython3",
   "version": "3.9.15"
  }
 },
 "nbformat": 4,
 "nbformat_minor": 2
}
